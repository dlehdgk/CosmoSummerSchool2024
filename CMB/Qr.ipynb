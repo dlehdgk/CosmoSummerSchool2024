{
 "cells": [
  {
   "cell_type": "markdown",
   "metadata": {},
   "source": [
    "Checking Qr equation is correct"
   ]
  },
  {
   "cell_type": "code",
   "execution_count": 2,
   "metadata": {},
   "outputs": [],
   "source": [
    "import numpy as np\n",
    "import healpy as hp\n",
    "import camb\n",
    "import matplotlib.pyplot as plt"
   ]
  },
  {
   "cell_type": "code",
   "execution_count": 61,
   "metadata": {},
   "outputs": [],
   "source": [
    "def Qr(Q, U, phi):\n",
    "    return -Q * np.cos(2 * phi) - U * np.sin(2 * phi)\n",
    "\n",
    "\n",
    "def Ur(Q, U, phi):\n",
    "    return Q * np.sin(2 * phi) - U * np.cos(2 * phi)\n",
    "\n",
    "\n",
    "def psi(Q, U, phi):\n",
    "    return 0.5 * np.arctan2(U, Q) + phi\n",
    "\n",
    "\n",
    "def pol(Q, U):\n",
    "    return np.sqrt(Q**2 + U**2)\n",
    "\n",
    "\n",
    "def vec(Q, U):\n",
    "    x = pol(Q, U) * np.cos(2 * psi(Q, U))\n",
    "    y = pol(Q, U) * np.sin(2 * psi(Q, U))\n",
    "    return x, y"
   ]
  },
  {
   "cell_type": "code",
   "execution_count": 63,
   "metadata": {},
   "outputs": [],
   "source": [
    "# parallel to N on West side\n",
    "Q = 0\n",
    "U = -0.5\n",
    "phi = 0.75 * np.pi"
   ]
  },
  {
   "cell_type": "code",
   "execution_count": 64,
   "metadata": {},
   "outputs": [
    {
     "name": "stdout",
     "output_type": "stream",
     "text": [
      "-0.5\n"
     ]
    }
   ],
   "source": [
    "qr = Qr(Q, U, phi)\n",
    "print(qr)"
   ]
  },
  {
   "cell_type": "code",
   "execution_count": 65,
   "metadata": {},
   "outputs": [
    {
     "name": "stdout",
     "output_type": "stream",
     "text": [
      "-9.184850993605148e-17\n"
     ]
    }
   ],
   "source": [
    "ur = Ur(Q, U, phi)\n",
    "print(ur)"
   ]
  },
  {
   "cell_type": "code",
   "execution_count": 66,
   "metadata": {},
   "outputs": [
    {
     "data": {
      "text/plain": [
       "45.0"
      ]
     },
     "execution_count": 66,
     "metadata": {},
     "output_type": "execute_result"
    }
   ],
   "source": [
    "np.degrees(psi(qr, ur, phi))"
   ]
  },
  {
   "cell_type": "code",
   "execution_count": 48,
   "metadata": {},
   "outputs": [
    {
     "data": {
      "text/plain": [
       "1.0"
      ]
     },
     "execution_count": 48,
     "metadata": {},
     "output_type": "execute_result"
    }
   ],
   "source": [
    "pol(qr, ur)"
   ]
  },
  {
   "cell_type": "code",
   "execution_count": 42,
   "metadata": {},
   "outputs": [
    {
     "data": {
      "text/plain": [
       "(-0.4710274693551909, -0.3437049943088473)"
      ]
     },
     "execution_count": 42,
     "metadata": {},
     "output_type": "execute_result"
    }
   ],
   "source": [
    "vec(qr, ur)"
   ]
  }
 ],
 "metadata": {
  "kernelspec": {
   "display_name": "cmb",
   "language": "python",
   "name": "python3"
  },
  "language_info": {
   "codemirror_mode": {
    "name": "ipython",
    "version": 3
   },
   "file_extension": ".py",
   "mimetype": "text/x-python",
   "name": "python",
   "nbconvert_exporter": "python",
   "pygments_lexer": "ipython3",
   "version": "3.9.16"
  }
 },
 "nbformat": 4,
 "nbformat_minor": 2
}
